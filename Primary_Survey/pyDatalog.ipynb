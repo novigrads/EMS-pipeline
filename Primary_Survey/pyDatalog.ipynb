{
 "cells": [
  {
   "cell_type": "code",
   "execution_count": 3,
   "metadata": {
    "collapsed": true
   },
   "outputs": [],
   "source": [
    "from pyDatalog import pyDatalog"
   ]
  },
  {
   "cell_type": "code",
   "execution_count": 4,
   "metadata": {
    "collapsed": true
   },
   "outputs": [],
   "source": [
    "pyDatalog.create_terms('RH, PH, C, BR, P, BL, op, Y')"
   ]
  },
  {
   "cell_type": "code",
   "execution_count": 5,
   "metadata": {},
   "outputs": [
    {
     "data": {
      "text/plain": [
       "op[6]==(*,RH,PH,C,BR,P,BL,'Open_the_Airway, Start_"
      ]
     },
     "execution_count": 5,
     "metadata": {},
     "output_type": "execute_result"
    }
   ],
   "source": [
    "(op[RH,PH,C,BR,P,BL] == 'Eliminate_Harzard') <= ('Rescuer_Hazard' == RH)\n",
    "(op[RH,PH,C,BR,P,BL] == 'Eliminate_Harzard') <= ('Rescuer_Hazard' != RH) & ('Patient_Hazard' == PH)\n",
    "(op[RH,PH,C,BR,P,BL] == 'Secondary_Survey') <= ('Rescuer_Hazard' != RH) & ('Patient_Hazard' != PH) & \\\n",
    "                                            ('Conscious' == C) & ('Bleeding' != BL)\n",
    "(op[RH,PH,C,BR,P,BL] == 'Control_Bleeding') <= ('Rescuer_Hazard' != RH) & ('Patient_Hazard' != PH) & \\\n",
    "                                            ('Conscious' == C) & ('Bleeding' == BL)\n",
    "(op[RH,PH,C,BR,P,BL] == 'Open_the_Airway, Secondary_Survey') <= ('Rescuer_Hazard' != RH) & \\\n",
    "                                            ('Patient_Hazard' != PH) & ('Conscious' != C) & ('Breathing' == BR) & \\\n",
    "                                            ('Pulse' == P) & ('Bleeding' != BL)\n",
    "(op[RH,PH,C,BR,P,BL] == 'Open_the_Airway, Control_Bleeding') <= ('Rescuer_Hazard' != RH) & \\\n",
    "                                            ('Patient_Hazard' != PH) & ('Conscious' != C) & ('Breathing' == BR) & \\\n",
    "                                            ('Pulse' == P) & ('Bleeding' == BL)\n",
    "(op[RH,PH,C,BR,P,BL] == 'Open_the_Airway, Start_Artificial_Ventilation, \\\n",
    "                                            Secondary_Survey') <= ('Rescuer_Hazard' != RH) & \\\n",
    "                                            ('Patient_Hazard' != PH) & ('Conscious' != C) & ('Breathing' != BR) & \\\n",
    "                                            ('Pulse' == P) & ('Bleeding' != BL)\n",
    "(op[RH,PH,C,BR,P,BL] == 'Open_the_Airway, Start_Artificial_Ventilation, \\\n",
    "                                            Control_Bleeding') <= ('Rescuer_Hazard' != RH) & \\\n",
    "                                            ('Patient_Hazard' != PH) & ('Conscious' != C) & ('Breathing' != BR) & \\\n",
    "                                            ('Pulse' == P) & ('Bleeding' == BL)\n",
    "(op[RH,PH,C,BR,P,BL] == 'Open_the_Airway, Start_External_Cardiac_Compressions, Secondary_Survey') \\\n",
    "                                            <= ('Rescuer_Hazard' != RH) & \\\n",
    "                                            ('Patient_Hazard' != PH) & ('Conscious' != C) & ('Breathing' == BR) & \\\n",
    "                                            ('Pulse' != P) & ('Bleeding' != BL)\n",
    "(op[RH,PH,C,BR,P,BL] == 'Open_the_Airway, Start_External_Cardiac_Compressions, Control_Bleeding') \\\n",
    "                                            <= ('Rescuer_Hazard' != RH) & \\\n",
    "                                            ('Patient_Hazard' != PH) & ('Conscious' != C) & ('Breathing' == BR) & \\\n",
    "                                            ('Pulse' != P) & ('Bleeding' == BL)\n",
    "(op[RH,PH,C,BR,P,BL] == 'Open_the_Airway, Start_Artificial_Ventilation, Start_External_Cardiac_Compressions,\\\n",
    "                                            Secondary_Survey') <= ('Rescuer_Hazard' != RH) & \\\n",
    "                                            ('Patient_Hazard' != PH) & ('Conscious' != C) & ('Breathing' != BR) & \\\n",
    "                                            ('Pulse' != P) & ('Bleeding' != BL)\n",
    "(op[RH,PH,C,BR,P,BL] == 'Open_the_Airway, Start_Artificial_Ventilation, Start_External_Cardiac_Compressions,\\\n",
    "                                            Control_Bleeding') <= ('Rescuer_Hazard' != RH) & \\\n",
    "                                            ('Patient_Hazard' != PH) & ('Conscious' != C) & ('Breathing' != BR) & \\\n",
    "                                            ('Pulse' != P) & ('Bleeding' == BL)"
   ]
  },
  {
   "cell_type": "code",
   "execution_count": 8,
   "metadata": {},
   "outputs": [],
   "source": [
    "result = op['Rescuer_Hazard','','','uBreathing','uPulse','uBleeding'] == Y"
   ]
  },
  {
   "cell_type": "code",
   "execution_count": 9,
   "metadata": {},
   "outputs": [
    {
     "name": "stdout",
     "output_type": "stream",
     "text": [
      "Eliminate_Harzard\n"
     ]
    }
   ],
   "source": [
    "print result[0][0]"
   ]
  },
  {
   "cell_type": "code",
   "execution_count": null,
   "metadata": {
    "collapsed": true
   },
   "outputs": [],
   "source": []
  }
 ],
 "metadata": {
  "kernelspec": {
   "display_name": "Python 2",
   "language": "python",
   "name": "python2"
  },
  "language_info": {
   "codemirror_mode": {
    "name": "ipython",
    "version": 2
   },
   "file_extension": ".py",
   "mimetype": "text/x-python",
   "name": "python",
   "nbconvert_exporter": "python",
   "pygments_lexer": "ipython2",
   "version": "2.7.13"
  }
 },
 "nbformat": 4,
 "nbformat_minor": 2
}
